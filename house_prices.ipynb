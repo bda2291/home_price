{
 "cells": [
  {
   "cell_type": "markdown",
   "metadata": {
    "deletable": true,
    "editable": true
   },
   "source": [
    "- SalePrice - Цена продажи недвижимости в долларах. Это целевая переменная, которую нужно попытаться предсказать.\n",
    "- MSSubClass - Определяет тип продаваемого жилья. \n",
    "- MSZoning - Определяет основную зоновую классификацию жилья.\n",
    "- LotFrontage - Протяженность дороги ведущей к дому.\n",
    "- LotArea - Размер участка в квадратных футах.\n",
    "- Street - Тип дороги, ведущей к дому.\n",
    "- Alley - Тип пешеходной дорожки, ведещей к дому.\n",
    "- LotShape - Тип формы дома.\n",
    "- LandContour - Тип ландшафта участка.\n",
    "- Utilities - Доступные типы коммуникаций.\n",
    "- LotConfig - Конфигурация участка.\n",
    "- LandSlope - Наклон участка.\n",
    "- Neighborhood - Физическое расположение в категории Ames city limits\n",
    "- Condition1 - Близость к инфраструктуре\n",
    "- Condition2 - Близость к инфраструктуре (если больше чем одна)\n",
    "- BldgType - Тип жилья.\n",
    "- HouseStyle - Стиль жилья (этажность).\n",
    "- OverallQual - Шкала качества дома и его отделки.\n",
    "- OverallCond - Шкала состояния дома.\n",
    "- YearBuilt - Дата постройки.\n",
    "- YearRemodAdd - Дата реконструкции/капитального ремонта.\n",
    "- RoofStyle - Тип кровли.\n",
    "- RoofMatl - Материал кровли.\n",
    "- Exterior1st - Материал отделки дома.\n",
    "- Exterior2nd - Материал отделки дома (если больше одного).\n",
    "- MasVnrType - Тип облицовочной кладки.\n",
    "- MasVnrArea - Площадь облицовочной кладки в квадратных футах.\n",
    "- ExterQual - Оценка качества внешних отделочных материалов.\n",
    "- ExterCond - Оценка состояния внешних отделочных материалов.\n",
    "- Foundation - Тип фундамента.\n",
    "- BsmtQual - Высота подвала.\n",
    "- BsmtCond - Состояние подвала.\n",
    "- BsmtExposure - Экспозиция подвала.\n",
    "- BsmtFinType1 - Оценка состояния помещений подвала.\n",
    "- BsmtFinSF1 - Площадь помещения подвала.\n",
    "- BsmtFinType2 - Оценка состояния помещений подвала (если смешанное состояние).\n",
    "- BsmtFinSF2 - Площадь помещения подвала.\n",
    "- BsmtUnfSF - Площадь неотремонтированных помещений подвала.\n",
    "- TotalBsmtSF - Общая площадь подвала.\n",
    "- Heating - Тип отопления.\n",
    "- HeatingQC - Качество и состояние системы отопления.\n",
    "- CentralAir - Наличие централизованной системы кондиционирования.\n",
    "- Electrical - Схема электроснабжения.\n",
    "- 1stFlrSF - Площадь первого этажа.\n",
    "- 2ndFlrSF - Площадь второго этажа.\n",
    "- LowQualFinSF - Общая площадь помещений с низким качеством отделки.\n",
    "- GrLivArea - Жилая площадь помещений, находящихся выше уровня земли.\n",
    "- BsmtFullBath - Полноценные ванные комнаты ниже уровня земли.\n",
    "- BsmtHalfBath - Туалеты ниже уровня земли.\n",
    "- FullBath - Полноценные ванные комнаты выше уровня земли.\n",
    "- HalfBath - Туалеты выше уровня земли.\n",
    "- Bedroom - Все ванные комнаты и туалеты выше уровня земли.\n",
    "- Kitchen - Кухни выше уровня земли.\n",
    "- KitchenQual - Состояние кухни.\n",
    "- TotRmsAbvGrd - Общее количество комнат выше уровня земли (без учета ванных комнат и туалетов).\n",
    "- Functional - Функциональность дома (предполагается обычной, если не гарантируется скидка).\n",
    "- Fireplaces - Количество каминов.\n",
    "- FireplaceQu - Качество каминов.\n",
    "- GarageType - Расположение гаража.\n",
    "- GarageYrBlt - Год постройки гаража.\n",
    "- GarageFinish - Внутренняя отделка гаража.\n",
    "- GarageCars - Вместимость гаража (кол-во машин).\n",
    "- GarageArea - Площадь гаража.\n",
    "- GarageQual - Качество гаража.\n",
    "- GarageCond - Состояние гаража.\n",
    "- PavedDrive - Мощение подъездной дорожки.\n",
    "- WoodDeckSF - Площадь деревянной площадки.\n",
    "- OpenPorchSF - Площадь крыльца.\n",
    "- EnclosedPorch - Площадь закрытой веранды.\n",
    "- 3SsnPorch - Площадь летней веранды.\n",
    "- ScreenPorch - Площадь панорамной веранды.\n",
    "- PoolArea - Площадь бассейна.\n",
    "- PoolQC - Качество бассейна.\n",
    "- Fence - Качество ограждения.\n",
    "- MiscFeature - Дополнительная функциональность, неупомянутая ранее.\n",
    "- MiscVal - Стоимость дополнительной функциональности.\n",
    "- MoSold - Месяц продажи.\n",
    "- YrSold - Год продажи.\n",
    "- SaleType - Тип сделки о продаже.\n",
    "- SaleCondition - Условия продажи."
   ]
  },
  {
   "cell_type": "code",
   "execution_count": 414,
   "metadata": {
    "collapsed": false,
    "deletable": true,
    "editable": true
   },
   "outputs": [],
   "source": [
    "%matplotlib inline  \n",
    "\n",
    "import pandas as pd\n",
    "import numpy as np\n",
    "import seaborn as sns\n",
    "import matplotlib.pyplot as plt\n",
    "\n",
    "train = pd.read_csv('train.csv')\n",
    "test = pd.read_csv('test.csv')"
   ]
  },
  {
   "cell_type": "code",
   "execution_count": 396,
   "metadata": {
    "collapsed": false,
    "deletable": true,
    "editable": true
   },
   "outputs": [
    {
     "name": "stdout",
     "output_type": "stream",
     "text": [
      "<class 'pandas.core.frame.DataFrame'>\n",
      "RangeIndex: 1460 entries, 0 to 1459\n",
      "Data columns (total 81 columns):\n",
      "Id               1460 non-null int64\n",
      "MSSubClass       1460 non-null int64\n",
      "MSZoning         1460 non-null object\n",
      "LotFrontage      1201 non-null float64\n",
      "LotArea          1460 non-null int64\n",
      "Street           1460 non-null object\n",
      "Alley            91 non-null object\n",
      "LotShape         1460 non-null object\n",
      "LandContour      1460 non-null object\n",
      "Utilities        1460 non-null object\n",
      "LotConfig        1460 non-null object\n",
      "LandSlope        1460 non-null object\n",
      "Neighborhood     1460 non-null object\n",
      "Condition1       1460 non-null object\n",
      "Condition2       1460 non-null object\n",
      "BldgType         1460 non-null object\n",
      "HouseStyle       1460 non-null object\n",
      "OverallQual      1460 non-null int64\n",
      "OverallCond      1460 non-null int64\n",
      "YearBuilt        1460 non-null int64\n",
      "YearRemodAdd     1460 non-null int64\n",
      "RoofStyle        1460 non-null object\n",
      "RoofMatl         1460 non-null object\n",
      "Exterior1st      1460 non-null object\n",
      "Exterior2nd      1460 non-null object\n",
      "MasVnrType       1452 non-null object\n",
      "MasVnrArea       1452 non-null float64\n",
      "ExterQual        1460 non-null object\n",
      "ExterCond        1460 non-null object\n",
      "Foundation       1460 non-null object\n",
      "BsmtQual         1423 non-null object\n",
      "BsmtCond         1423 non-null object\n",
      "BsmtExposure     1422 non-null object\n",
      "BsmtFinType1     1423 non-null object\n",
      "BsmtFinSF1       1460 non-null int64\n",
      "BsmtFinType2     1422 non-null object\n",
      "BsmtFinSF2       1460 non-null int64\n",
      "BsmtUnfSF        1460 non-null int64\n",
      "TotalBsmtSF      1460 non-null int64\n",
      "Heating          1460 non-null object\n",
      "HeatingQC        1460 non-null object\n",
      "CentralAir       1460 non-null object\n",
      "Electrical       1459 non-null object\n",
      "1stFlrSF         1460 non-null int64\n",
      "2ndFlrSF         1460 non-null int64\n",
      "LowQualFinSF     1460 non-null int64\n",
      "GrLivArea        1460 non-null int64\n",
      "BsmtFullBath     1460 non-null int64\n",
      "BsmtHalfBath     1460 non-null int64\n",
      "FullBath         1460 non-null int64\n",
      "HalfBath         1460 non-null int64\n",
      "BedroomAbvGr     1460 non-null int64\n",
      "KitchenAbvGr     1460 non-null int64\n",
      "KitchenQual      1460 non-null object\n",
      "TotRmsAbvGrd     1460 non-null int64\n",
      "Functional       1460 non-null object\n",
      "Fireplaces       1460 non-null int64\n",
      "FireplaceQu      770 non-null object\n",
      "GarageType       1379 non-null object\n",
      "GarageYrBlt      1379 non-null float64\n",
      "GarageFinish     1379 non-null object\n",
      "GarageCars       1460 non-null int64\n",
      "GarageArea       1460 non-null int64\n",
      "GarageQual       1379 non-null object\n",
      "GarageCond       1379 non-null object\n",
      "PavedDrive       1460 non-null object\n",
      "WoodDeckSF       1460 non-null int64\n",
      "OpenPorchSF      1460 non-null int64\n",
      "EnclosedPorch    1460 non-null int64\n",
      "3SsnPorch        1460 non-null int64\n",
      "ScreenPorch      1460 non-null int64\n",
      "PoolArea         1460 non-null int64\n",
      "PoolQC           7 non-null object\n",
      "Fence            281 non-null object\n",
      "MiscFeature      54 non-null object\n",
      "MiscVal          1460 non-null int64\n",
      "MoSold           1460 non-null int64\n",
      "YrSold           1460 non-null int64\n",
      "SaleType         1460 non-null object\n",
      "SaleCondition    1460 non-null object\n",
      "SalePrice        1460 non-null int64\n",
      "dtypes: float64(3), int64(35), object(43)\n",
      "memory usage: 924.0+ KB\n"
     ]
    }
   ],
   "source": [
    "train.info()"
   ]
  },
  {
   "cell_type": "code",
   "execution_count": 376,
   "metadata": {
    "collapsed": false,
    "deletable": true,
    "editable": true
   },
   "outputs": [
    {
     "data": {
      "text/plain": [
       "False    1460\n",
       "Name: PoolArea, dtype: int64"
      ]
     },
     "execution_count": 376,
     "metadata": {},
     "output_type": "execute_result"
    }
   ],
   "source": [
    "pd.value_counts(train.PoolArea.isnull())"
   ]
  },
  {
   "cell_type": "markdown",
   "metadata": {
    "deletable": true,
    "editable": true
   },
   "source": [
    "Тип пешеходной дорожки('Alley') и качество ограждения('Fence') заполнены плохо. Удалим их из дата-сета."
   ]
  },
  {
   "cell_type": "code",
   "execution_count": 397,
   "metadata": {
    "collapsed": false,
    "deletable": true,
    "editable": true
   },
   "outputs": [
    {
     "data": {
      "text/plain": [
       "Utilities\n",
       "AllPub    1459\n",
       "NoSeWa       1\n",
       "Name: Id, dtype: int64"
      ]
     },
     "execution_count": 397,
     "metadata": {},
     "output_type": "execute_result"
    }
   ],
   "source": [
    "train.groupby('Utilities').count()['Id']"
   ]
  },
  {
   "cell_type": "markdown",
   "metadata": {
    "deletable": true,
    "editable": true
   },
   "source": [
    "Доступные коммуникации(Utilities) тоже можно удалить, т.к. все, кроме одной записи имеют одинаковые значения AllPub"
   ]
  },
  {
   "cell_type": "code",
   "execution_count": 415,
   "metadata": {
    "collapsed": true,
    "deletable": true,
    "editable": true
   },
   "outputs": [],
   "source": [
    "train.drop(['Alley','Fence','Utilities'], axis=1, inplace=True)\n",
    "test.drop(['Alley','Fence', 'Utilities'], axis=1, inplace=True)"
   ]
  },
  {
   "cell_type": "code",
   "execution_count": 267,
   "metadata": {
    "collapsed": false,
    "deletable": true,
    "editable": true
   },
   "outputs": [
    {
     "data": {
      "text/plain": [
       "<matplotlib.axes._subplots.AxesSubplot at 0x7f49c059fc50>"
      ]
     },
     "execution_count": 267,
     "metadata": {},
     "output_type": "execute_result"
    },
    {
     "data": {
      "image/png": "[encoded data removed]",
      "text/plain": [
       "<matplotlib.figure.Figure at 0x7f49c0572438>"
      ]
     },
     "metadata": {},
     "output_type": "display_data"
    }
   ],
   "source": [
    "sns.distplot(train['GrLivArea'], kde = False, color = 'g', hist_kws={\"alpha\": 1})"
   ]
  },
  {
   "cell_type": "code",
   "execution_count": 268,
   "metadata": {
    "collapsed": false,
    "deletable": true,
    "editable": true
   },
   "outputs": [
    {
     "name": "stdout",
     "output_type": "stream",
     "text": [
      "False    1456\n",
      "True        4\n",
      "Name: GrLivArea, dtype: int64\n",
      "False    1458\n",
      "True        1\n",
      "Name: GrLivArea, dtype: int64\n"
     ]
    }
   ],
   "source": [
    "print(pd.value_counts(train['GrLivArea']> 4000))\n",
    "print(pd.value_counts(test['GrLivArea']> 4000))"
   ]
  },
  {
   "cell_type": "markdown",
   "metadata": {
    "deletable": true,
    "editable": true
   },
   "source": [
    "В train-сете есть 4 дома с значительно большей жилой площадью('GrLivArea'), чем у остальных, они являются outliers, лучше их удалить из дата-сета. Нужно заметить, что в test тоже есть 1 такой случай, но его мы удалить не можем."
   ]
  },
  {
   "cell_type": "code",
   "execution_count": 416,
   "metadata": {
    "collapsed": false,
    "deletable": true,
    "editable": true
   },
   "outputs": [],
   "source": [
    "train.drop(train[train[\"GrLivArea\"] > 4000].index, inplace=True)\n",
    "\n",
    "test.loc[666, \"GarageQual\"] = \"TA\"\n",
    "test.loc[666, \"GarageCond\"] = \"TA\"\n",
    "test.loc[666, \"GarageFinish\"] = \"Unf\"\n",
    "test.loc[666, \"GarageYrBlt\"] = 1980\n",
    "\n",
    "test.loc[1116, \"GarageType\"] = np.nan"
   ]
  },
  {
   "cell_type": "code",
   "execution_count": 417,
   "metadata": {
    "collapsed": false,
    "deletable": true,
    "editable": true
   },
   "outputs": [],
   "source": [
    "lot_frontage_by_neighborhood = train[\"LotFrontage\"].groupby(train[\"Neighborhood\"])"
   ]
  },
  {
   "cell_type": "code",
   "execution_count": 271,
   "metadata": {
    "collapsed": false,
    "deletable": true,
    "editable": true
   },
   "outputs": [
    {
     "name": "stdout",
     "output_type": "stream",
     "text": [
      "['Id' 'MSSubClass' 'LotFrontage' 'LotArea' 'OverallQual' 'OverallCond'\n",
      " 'YearBuilt' 'YearRemodAdd' 'MasVnrArea' 'BsmtFinSF1' 'BsmtFinSF2'\n",
      " 'BsmtUnfSF' 'TotalBsmtSF' '1stFlrSF' '2ndFlrSF' 'LowQualFinSF' 'GrLivArea'\n",
      " 'BsmtFullBath' 'BsmtHalfBath' 'FullBath' 'HalfBath' 'BedroomAbvGr'\n",
      " 'KitchenAbvGr' 'TotRmsAbvGrd' 'Fireplaces' 'GarageYrBlt' 'GarageCars'\n",
      " 'GarageArea' 'WoodDeckSF' 'OpenPorchSF' 'EnclosedPorch' '3SsnPorch'\n",
      " 'ScreenPorch' 'PoolArea' 'MiscVal' 'MoSold' 'YrSold' 'SalePrice']\n",
      "['MSZoning' 'Street' 'LotShape' 'LandContour' 'LotConfig' 'LandSlope'\n",
      " 'Neighborhood' 'Condition1' 'Condition2' 'BldgType' 'HouseStyle'\n",
      " 'RoofStyle' 'RoofMatl' 'Exterior1st' 'Exterior2nd' 'MasVnrType'\n",
      " 'ExterQual' 'ExterCond' 'Foundation' 'BsmtQual' 'BsmtCond' 'BsmtExposure'\n",
      " 'BsmtFinType1' 'BsmtFinType2' 'Heating' 'HeatingQC' 'CentralAir'\n",
      " 'Electrical' 'KitchenQual' 'Functional' 'FireplaceQu' 'GarageType'\n",
      " 'GarageFinish' 'GarageQual' 'GarageCond' 'PavedDrive' 'PoolQC'\n",
      " 'MiscFeature' 'SaleType' 'SaleCondition']\n"
     ]
    }
   ],
   "source": [
    "print(train.select_dtypes(include = ['float64', 'int64']).columns.values)\n",
    "print(train.select_dtypes(include=['object']).columns.values)"
   ]
  },
  {
   "cell_type": "code",
   "execution_count": 418,
   "metadata": {
    "collapsed": true,
    "deletable": true,
    "editable": true
   },
   "outputs": [],
   "source": [
    "from sklearn.preprocessing import LabelEncoder\n",
    "le = LabelEncoder()\n",
    "\n",
    "def factorize(df, factor_df, column, fill_na=None):\n",
    "    factor_df[column] = df[column]\n",
    "    if fill_na is not None:\n",
    "        factor_df[column].fillna(fill_na, inplace=True)\n",
    "    le.fit(factor_df[column].unique())\n",
    "    factor_df[column] = le.transform(factor_df[column])\n",
    "    return factor_df\n",
    "\n",
    "# Объединим все фичи в одном дата-сете\n",
    "def munge(df):\n",
    "    all_df = pd.DataFrame(index = df.index)\n",
    "    \n",
    "    # В протяженности дороги до дома('LotFrontage') много пропусков, но мы их попытаемся восстановить, \n",
    "    # взяв среднее значение, в зависимости от Neighborhood-классификации\n",
    "    all_df['LotFrontage'] = df['LotFrontage']\n",
    "    for key, group in lot_frontage_by_neighborhood:\n",
    "        idx = (df[\"Neighborhood\"] == key) & (df[\"LotFrontage\"].isnull())\n",
    "        all_df.loc[idx, \"LotFrontage\"] = group.median()\n",
    "        \n",
    "    all_df[\"LotArea\"] = df[\"LotArea\"]\n",
    "    all_df[\"OverallQual\"] = df[\"OverallQual\"]\n",
    "    all_df[\"OverallCond\"] = df[\"OverallCond\"]\n",
    "    all_df[\"YearBuilt\"] = df[\"YearBuilt\"]\n",
    "    all_df[\"YearRemodAdd\"] = df[\"YearRemodAdd\"]\n",
    "    all_df[\"1stFlrSF\"] = df[\"1stFlrSF\"]\n",
    "    all_df[\"2ndFlrSF\"] = df[\"2ndFlrSF\"]\n",
    "    all_df[\"LowQualFinSF\"] = df[\"LowQualFinSF\"]\n",
    "    all_df[\"GrLivArea\"] = df[\"GrLivArea\"]\n",
    "    all_df[\"FullBath\"] = df[\"FullBath\"] \n",
    "    all_df[\"HalfBath\"] = df[\"HalfBath\"] \n",
    "    all_df[\"BedroomAbvGr\"] = df[\"BedroomAbvGr\"] \n",
    "    all_df[\"KitchenAbvGr\"] = df[\"KitchenAbvGr\"] \n",
    "    all_df[\"TotRmsAbvGrd\"] = df[\"TotRmsAbvGrd\"] \n",
    "    all_df[\"Fireplaces\"] = df[\"Fireplaces\"]\n",
    "    all_df[\"WoodDeckSF\"] = df[\"WoodDeckSF\"]\n",
    "    all_df[\"OpenPorchSF\"] = df[\"OpenPorchSF\"]\n",
    "    all_df[\"EnclosedPorch\"] = df[\"EnclosedPorch\"]\n",
    "    all_df[\"3SsnPorch\"] = df[\"3SsnPorch\"]\n",
    "    all_df[\"ScreenPorch\"] = df[\"ScreenPorch\"]    \n",
    "    all_df[\"MiscVal\"] = df[\"MiscVal\"]\n",
    "    all_df[\"MoSold\"] = df[\"MoSold\"]\n",
    "    all_df[\"YrSold\"] = df[\"YrSold\"]    \n",
    "    all_df[\"LowQualFinSF\"] = df[\"LowQualFinSF\"]\n",
    "    all_df[\"MiscVal\"] = df[\"MiscVal\"]\n",
    "    \n",
    "    # Если признак заполнен не полностью, то временно заполним пропуски нулями\n",
    "    all_df[\"MasVnrArea\"] = df[\"MasVnrArea\"]\n",
    "    all_df[\"MasVnrArea\"].fillna(0, inplace=True)\n",
    "    \n",
    "    all_df[\"BsmtFinSF1\"] = df[\"BsmtFinSF1\"]\n",
    "    all_df[\"BsmtFinSF1\"].fillna(0, inplace=True)\n",
    "\n",
    "    all_df[\"BsmtFinSF2\"] = df[\"BsmtFinSF2\"]\n",
    "    all_df[\"BsmtFinSF2\"].fillna(0, inplace=True)\n",
    "\n",
    "    all_df[\"BsmtUnfSF\"] = df[\"BsmtUnfSF\"]\n",
    "    all_df[\"BsmtUnfSF\"].fillna(0, inplace=True)\n",
    "\n",
    "    all_df[\"TotalBsmtSF\"] = df[\"TotalBsmtSF\"]\n",
    "    all_df[\"TotalBsmtSF\"].fillna(0, inplace=True)\n",
    "    \n",
    "    all_df[\"BsmtFullBath\"] = df[\"BsmtFullBath\"]\n",
    "    all_df[\"BsmtFullBath\"].fillna(0, inplace=True)\n",
    "\n",
    "    all_df[\"BsmtHalfBath\"] = df[\"BsmtHalfBath\"]\n",
    "    all_df[\"BsmtHalfBath\"].fillna(0, inplace=True)\n",
    "    \n",
    "    all_df[\"GarageYrBlt\"] = df[\"GarageYrBlt\"]\n",
    "    all_df[\"GarageYrBlt\"].fillna(0, inplace=True)\n",
    "    \n",
    "    all_df[\"GarageCars\"] = df[\"GarageCars\"]\n",
    "    all_df[\"GarageCars\"].fillna(0, inplace=True)\n",
    "    \n",
    "    all_df[\"GarageArea\"] = df[\"GarageArea\"]\n",
    "    all_df[\"GarageArea\"].fillna(0, inplace=True)\n",
    "        \n",
    "    all_df[\"PoolArea\"] = df[\"PoolArea\"]\n",
    "    all_df[\"PoolArea\"].fillna(0, inplace=True)\n",
    "    \n",
    "    # Качественные признаки содержат текстовые значения, но мы их можем заменить на числовые\n",
    "    qual_dict = {None: 0, \"Po\": 1, \"Fa\": 2, \"TA\": 3, \"Gd\": 4, \"Ex\": 5}\n",
    "    all_df[\"ExterQual\"] = df[\"ExterQual\"].map(qual_dict).astype(int)\n",
    "    all_df[\"ExterCond\"] = df[\"ExterCond\"].map(qual_dict).astype(int)\n",
    "    all_df[\"BsmtQual\"] = df[\"BsmtQual\"].map(qual_dict).astype(int)\n",
    "    all_df[\"BsmtCond\"] = df[\"BsmtCond\"].map(qual_dict).astype(int)\n",
    "    all_df[\"HeatingQC\"] = df[\"HeatingQC\"].map(qual_dict).astype(int)\n",
    "    all_df[\"KitchenQual\"] = df[\"KitchenQual\"].map(qual_dict).astype(int)\n",
    "    all_df[\"FireplaceQu\"] = df[\"FireplaceQu\"].map(qual_dict).astype(int)\n",
    "    all_df[\"GarageQual\"] = df[\"GarageQual\"].map(qual_dict).astype(int)\n",
    "    all_df[\"GarageCond\"] = df[\"GarageCond\"].map(qual_dict).astype(int)\n",
    "    all_df[\"PoolQC\"] = df[\"PoolQC\"].map(qual_dict).astype(int)\n",
    "    \n",
    "    all_df[\"BsmtExposure\"] = df[\"BsmtExposure\"].map(\n",
    "        {None: 0, \"No\": 1, \"Mn\": 2, \"Av\": 3, \"Gd\": 4}).astype(int)\n",
    "\n",
    "    bsmt_fin_dict = {None: 0, \"Unf\": 1, \"LwQ\": 2, \"Rec\": 3, \"BLQ\": 4, \"ALQ\": 5, \"GLQ\": 6}\n",
    "    all_df[\"BsmtFinType1\"] = df[\"BsmtFinType1\"].map(bsmt_fin_dict).astype(int)\n",
    "    all_df[\"BsmtFinType2\"] = df[\"BsmtFinType2\"].map(bsmt_fin_dict).astype(int)\n",
    "\n",
    "    all_df[\"Functional\"] = df[\"Functional\"].map(\n",
    "        {None: 0, \"Sal\": 1, \"Sev\": 2, \"Maj2\": 3, \"Maj1\": 4, \n",
    "         \"Mod\": 5, \"Min2\": 6, \"Min1\": 7, \"Typ\": 8}).astype(int)\n",
    "\n",
    "    all_df[\"GarageFinish\"] = df[\"GarageFinish\"].map(\n",
    "        {None: 0, \"Unf\": 1, \"RFn\": 2, \"Fin\": 3}).astype(int)\n",
    "    \n",
    "    # Заменим категориальные фичи цифрами\n",
    "    all_df = factorize(df, all_df, \"MSSubClass\")\n",
    "    all_df = factorize(df, all_df, \"MSZoning\", \"RL\")\n",
    "    all_df = factorize(df, all_df, \"LotConfig\")\n",
    "    all_df = factorize(df, all_df, \"Neighborhood\")\n",
    "    all_df = factorize(df, all_df, \"Condition1\")\n",
    "    all_df = factorize(df, all_df, \"BldgType\")\n",
    "    all_df = factorize(df, all_df, \"HouseStyle\")\n",
    "    all_df = factorize(df, all_df, \"RoofStyle\")\n",
    "    all_df = factorize(df, all_df, \"Exterior1st\", \"Other\")\n",
    "    all_df = factorize(df, all_df, \"Exterior2nd\", \"Other\")\n",
    "    all_df = factorize(df, all_df, \"MasVnrType\", \"None\")\n",
    "    all_df = factorize(df, all_df, \"Foundation\")\n",
    "    all_df = factorize(df, all_df, \"SaleType\", \"Oth\")\n",
    "    all_df = factorize(df, all_df, \"SaleCondition\")\n",
    "    \n",
    "    # По большому счету можно принять форму дома(LotShape) двух типов: Reg и IR1\n",
    "    all_df[\"IsRegularLotShape\"] = (df[\"LotShape\"] == \"Reg\") * 1\n",
    "    \n",
    "    # Ландшафт участка(LandContour) двух типов: level и not level\n",
    "    all_df[\"IsLandLevel\"] = (df[\"LandContour\"] == \"Lvl\") * 1\n",
    "    \n",
    "    # Наклон участка(LandSlope) двух типов: gentle и not gentle\n",
    "    all_df[\"IsLandSlopeGentle\"] = (df[\"LandSlope\"] == \"Gtl\") * 1\n",
    "    \n",
    "    # Схема электроснабжения(Electrical) двух типов: SBrkr и not SBrkr\n",
    "    all_df[\"IsElectricalSBrkr\"] = (df[\"Electrical\"] == \"SBrkr\") * 1\n",
    "    \n",
    "    # Расположение гаража(GarageType) двух типов: Attchd и Detchd\n",
    "    all_df[\"IsGarageDetached\"] = (df[\"GarageType\"] == \"Detchd\") * 1\n",
    "    \n",
    "    # Мощение подъездной дорожки(PavedDrive) двух типов: paved и not paved\n",
    "    all_df[\"IsPavedDrive\"] = (df[\"PavedDrive\"] == \"Y\") * 1\n",
    "    \n",
    "    # Из дополнительного функционала(MiscFeature) в основном встречается только сарай: shed и not shed\n",
    "    all_df[\"HasShed\"] = (df[\"MiscFeature\"] == \"Shed\") * 1\n",
    "    \n",
    "    # Будем учитывать только наличие капитального ремонта или его отсутствие\n",
    "    all_df[\"Remodeled\"] = (all_df[\"YearRemodAdd\"] != all_df[\"YearBuilt\"]) * 1\n",
    "    \n",
    "    # Был ли выполнен ремонт в год продажи или раньше\n",
    "    all_df[\"RecentRemodel\"] = (all_df[\"YearRemodAdd\"] == all_df[\"YrSold\"]) * 1\n",
    "    \n",
    "    # Был ли дом построен в год продажи или раньше\n",
    "    all_df[\"VeryNewHouse\"] = (all_df[\"YearBuilt\"] == all_df[\"YrSold\"]) * 1\n",
    "    \n",
    "    # Будем учитывать наличие или отсутсвие второго этажа\n",
    "    all_df[\"Has2ndFloor\"] = (all_df[\"2ndFlrSF\"] == 0) * 1\n",
    "    \n",
    "    # Будем учитывать наличие или отсутсвие облицовочной кладки\n",
    "    all_df[\"HasMasVnr\"] = (all_df[\"MasVnrArea\"] == 0) * 1\n",
    "    \n",
    "    # Будем учитывать наличие или отсутсвие деревянной площадки\n",
    "    all_df[\"HasWoodDeck\"] = (all_df[\"WoodDeckSF\"] == 0) * 1\n",
    "    \n",
    "    # Будем учитывать наличие или отсутсвие открытого крыльца\n",
    "    all_df[\"HasOpenPorch\"] = (all_df[\"OpenPorchSF\"] == 0) * 1\n",
    "    \n",
    "    # Будем учитывать наличие или отсутсвие крытого крыльца\n",
    "    all_df[\"HasEnclosedPorch\"] = (all_df[\"EnclosedPorch\"] == 0) * 1\n",
    "    \n",
    "    # Будем учитывать наличие или отсутсвие летней веранды\n",
    "    all_df[\"Has3SsnPorch\"] = (all_df[\"3SsnPorch\"] == 0) * 1\n",
    "    \n",
    "    # Будем учитывать наличие или отсутсвие крытой веранды\n",
    "    all_df[\"HasScreenPorch\"] = (all_df[\"ScreenPorch\"] == 0) * 1\n",
    "    \n",
    "    # Месяц продажи играет определенную роль, выделим отдельно весяца с большим количеством продаж\n",
    "    all_df[\"HighSeason\"] = df[\"MoSold\"].replace( \n",
    "        {1: 0, 2: 0, 3: 1, 4: 1, 5: 1, 6: 1, 7: 1, 8: 1, 9: 0, 10: 0, 11: 0, 12: 0})\n",
    "    \n",
    "    # Тип жилья играет определенную роль, выделим отдельно самые часто продаваемые типы\n",
    "    all_df[\"NewerDwelling\"] = df[\"MSSubClass\"].replace(\n",
    "        {20: 1, 30: 0, 40: 0, 45: 0,50: 1, 60: 1, 70: 0, 75: 0, 80: 0, 85: 0,\n",
    "         90: 0, 120: 0, 150: 0, 160: 0, 180: 0, 190: 0})\n",
    "        \n",
    "    # Выделим условия продажи при которых средняя цена выше всего\n",
    "    all_df[\"SaleCondition_PriceDown\"] = df.SaleCondition.replace(\n",
    "        {'Abnorml': 1, 'Alloca': 1, 'AdjLand': 1, 'Family': 1, 'Normal': 0, 'Partial': 0})\n",
    "    \n",
    "    # На цену почему-то сильно влияет Partial\n",
    "    all_df[\"PartialON\"] = df.SaleCondition.replace(\n",
    "        {\"Abnorml\" : 0, \"Alloca\" : 0, \"AdjLand\" : 0, \"Family\" : 0, \"Normal\" : 0, \"Partial\" : 1})\n",
    "    \n",
    "    # На цену воияет качество отопления\n",
    "    all_df[\"BadHeating\"] = df.HeatingQC.replace(\n",
    "        {'Ex': 0, 'Gd': 0, 'TA': 0, 'Fa': 1, 'Po': 1})\n",
    "    \n",
    "    # Все признаки, связанные с площадью\n",
    "    area_cols = ['LotFrontage', 'LotArea', 'MasVnrArea', 'BsmtFinSF1', 'BsmtFinSF2', 'BsmtUnfSF',\n",
    "                 'TotalBsmtSF', '1stFlrSF', '2ndFlrSF', 'GrLivArea', 'GarageArea', 'WoodDeckSF', \n",
    "                 'OpenPorchSF', 'EnclosedPorch', '3SsnPorch', 'ScreenPorch', 'LowQualFinSF', 'PoolArea' ]\n",
    "    \n",
    "    # Возьмем сумму всех площадей\n",
    "    all_df[\"TotalArea\"] = all_df[area_cols].sum(axis=1)\n",
    "    \n",
    "    # Сумма площадей первого и второго этажей а также подвала\n",
    "    all_df[\"TotalArea1st2nd\"] = all_df[\"1stFlrSF\"] + all_df[\"2ndFlrSF\"] + all_df[\"TotalBsmtSF\"]\n",
    "    \n",
    "    # Возраст дома, самый новый 2010 года постройки\n",
    "    all_df[\"Age\"] = 2010 - all_df[\"YearBuilt\"]\n",
    "    \n",
    "    # Сколько уже лет продается\n",
    "    all_df[\"TimeSinceSold\"] = 2010 - all_df[\"YrSold\"]\n",
    "    \n",
    "    # В какое время года продается\n",
    "    all_df[\"SeasonSold\"] = all_df[\"MoSold\"].map({12:0, 1:0, 2:0, 3:1, 4:1, 5:1, \n",
    "                                                  6:2, 7:2, 8:2, 9:3, 10:3, 11:3}).astype(int)\n",
    "    \n",
    "    # Сколько времени прошло с момента последнего ремонта\n",
    "    all_df[\"YearsSinceRemodel\"] = all_df[\"YrSold\"] - all_df[\"YearRemodAdd\"]\n",
    "    \n",
    "    # Обобщим признаки по трем критериям - плохой/средний/хороший.\n",
    "    all_df[\"SimplOverallQual\"] = all_df.OverallQual.replace(\n",
    "        {1 : 1, 2 : 1, 3 : 1, 4 : 2, 5 : 2, 6 : 2, 7 : 3, 8 : 3, 9 : 3, 10 : 3})\n",
    "    all_df[\"SimplOverallCond\"] = all_df.OverallCond.replace(\n",
    "        {1 : 1, 2 : 1, 3 : 1, 4 : 2, 5 : 2, 6 : 2, 7 : 3, 8 : 3, 9 : 3, 10 : 3})\n",
    "    all_df[\"SimplPoolQC\"] = all_df.PoolQC.replace(\n",
    "        {1 : 1, 2 : 1, 3 : 2, 4 : 2})\n",
    "    all_df[\"SimplGarageCond\"] = all_df.GarageCond.replace(\n",
    "        {1 : 1, 2 : 1, 3 : 1, 4 : 2, 5 : 2})\n",
    "    all_df[\"SimplGarageQual\"] = all_df.GarageQual.replace(\n",
    "        {1 : 1, 2 : 1, 3 : 1, 4 : 2, 5 : 2})\n",
    "    all_df[\"SimplFireplaceQu\"] = all_df.FireplaceQu.replace(\n",
    "        {1 : 1, 2 : 1, 3 : 1, 4 : 2, 5 : 2})\n",
    "    all_df[\"SimplFireplaceQu\"] = all_df.FireplaceQu.replace(\n",
    "        {1 : 1, 2 : 1, 3 : 1, 4 : 2, 5 : 2})\n",
    "    all_df[\"SimplFunctional\"] = all_df.Functional.replace(\n",
    "        {1 : 1, 2 : 1, 3 : 2, 4 : 2, 5 : 3, 6 : 3, 7 : 3, 8 : 4})\n",
    "    all_df[\"SimplKitchenQual\"] = all_df.KitchenQual.replace(\n",
    "        {1 : 1, 2 : 1, 3 : 1, 4 : 2, 5 : 2})\n",
    "    all_df[\"SimplHeatingQC\"] = all_df.HeatingQC.replace(\n",
    "        {1 : 1, 2 : 1, 3 : 1, 4 : 2, 5 : 2})\n",
    "    all_df[\"SimplBsmtFinType1\"] = all_df.BsmtFinType1.replace(\n",
    "        {1 : 1, 2 : 1, 3 : 1, 4 : 2, 5 : 2, 6 : 2})\n",
    "    all_df[\"SimplBsmtFinType2\"] = all_df.BsmtFinType2.replace(\n",
    "        {1 : 1, 2 : 1, 3 : 1, 4 : 2, 5 : 2, 6 : 2})\n",
    "    all_df[\"SimplBsmtCond\"] = all_df.BsmtCond.replace(\n",
    "        {1 : 1, 2 : 1, 3 : 1, 4 : 2, 5 : 2})\n",
    "    all_df[\"SimplBsmtQual\"] = all_df.BsmtQual.replace(\n",
    "        {1 : 1, 2 : 1, 3 : 1, 4 : 2, 5 : 2})\n",
    "    all_df[\"SimplExterCond\"] = all_df.ExterCond.replace(\n",
    "        {1 : 1, 2 : 1, 3 : 1, 4 : 2, 5 : 2})\n",
    "    all_df[\"SimplExterQual\"] = all_df.ExterQual.replace(\n",
    "        {1 : 1, 2 : 1, 3 : 1, 4 : 2, 5 : 2})\n",
    "    \n",
    "    # Обобщим районы по четырем критериям, отталкиваясь от средней стоимости - плохой/средний/хороший/элитный.\n",
    "    neighborhood_map = {\n",
    "        \"MeadowV\" : 0,  #  88000\n",
    "        \"IDOTRR\" : 1,   # 103000\n",
    "        \"BrDale\" : 1,   # 106000\n",
    "        \"OldTown\" : 1,  # 119000\n",
    "        \"Edwards\" : 1,  # 119500\n",
    "        \"BrkSide\" : 1,  # 124300\n",
    "        \"Sawyer\" : 1,   # 135000\n",
    "        \"Blueste\" : 1,  # 137500\n",
    "        \"SWISU\" : 2,    # 139500\n",
    "        \"NAmes\" : 2,    # 140000\n",
    "        \"NPkVill\" : 2,  # 146000\n",
    "        \"Mitchel\" : 2,  # 153500\n",
    "        \"SawyerW\" : 2,  # 179900\n",
    "        \"Gilbert\" : 2,  # 181000\n",
    "        \"NWAmes\" : 2,   # 182900\n",
    "        \"Blmngtn\" : 2,  # 191000\n",
    "        \"CollgCr\" : 2,  # 197200\n",
    "        \"ClearCr\" : 3,  # 200250\n",
    "        \"Crawfor\" : 3,  # 200624\n",
    "        \"Veenker\" : 3,  # 218000\n",
    "        \"Somerst\" : 3,  # 225500\n",
    "        \"Timber\" : 3,   # 228475\n",
    "        \"StoneBr\" : 4,  # 278000\n",
    "        \"NoRidge\" : 4,  # 290000\n",
    "        \"NridgHt\" : 4,  # 315000\n",
    "    }\n",
    "    \n",
    "    all_df[\"NeighborhoodBin\"] = df[\"Neighborhood\"].map(neighborhood_map)\n",
    "        \n",
    "    return all_df"
   ]
  },
  {
   "cell_type": "code",
   "execution_count": 273,
   "metadata": {
    "collapsed": false,
    "deletable": true,
    "editable": true
   },
   "outputs": [
    {
     "name": "stdout",
     "output_type": "stream",
     "text": [
      "False    1455\n",
      "True        1\n",
      "Name: Electrical, dtype: int64\n",
      "False    1459\n",
      "Name: Electrical, dtype: int64\n"
     ]
    },
    {
     "data": {
      "text/plain": [
       "Electrical\n",
       "FuseA      94\n",
       "FuseF      27\n",
       "FuseP       3\n",
       "Mix         1\n",
       "SBrkr    1330\n",
       "Name: Id, dtype: int64"
      ]
     },
     "execution_count": 273,
     "metadata": {},
     "output_type": "execute_result"
    }
   ],
   "source": [
    "type_val = 'Electrical'\n",
    "print(pd.value_counts(train[type_val].isnull()))\n",
    "print(pd.value_counts(test[type_val].isnull()))\n",
    "train.groupby(type_val).count()['Id']"
   ]
  },
  {
   "cell_type": "markdown",
   "metadata": {
    "deletable": true,
    "editable": true
   },
   "source": [
    "# Numerical Features"
   ]
  },
  {
   "cell_type": "code",
   "execution_count": 274,
   "metadata": {
    "collapsed": false,
    "deletable": true,
    "editable": true
   },
   "outputs": [
    {
     "name": "stdout",
     "output_type": "stream",
     "text": [
      "['Id' 'MSSubClass' 'LotFrontage' 'LotArea' 'OverallQual' 'OverallCond'\n",
      " 'YearBuilt' 'YearRemodAdd' 'MasVnrArea' 'BsmtFinSF1' 'BsmtFinSF2'\n",
      " 'BsmtUnfSF' 'TotalBsmtSF' '1stFlrSF' '2ndFlrSF' 'LowQualFinSF' 'GrLivArea'\n",
      " 'BsmtFullBath' 'BsmtHalfBath' 'FullBath' 'HalfBath' 'BedroomAbvGr'\n",
      " 'KitchenAbvGr' 'TotRmsAbvGrd' 'Fireplaces' 'GarageYrBlt' 'GarageCars'\n",
      " 'GarageArea' 'WoodDeckSF' 'OpenPorchSF' 'EnclosedPorch' '3SsnPorch'\n",
      " 'ScreenPorch' 'PoolArea' 'MiscVal' 'MoSold' 'YrSold' 'SalePrice']\n"
     ]
    }
   ],
   "source": [
    "print(train.select_dtypes(include = ['float64', 'int64']).columns.values)"
   ]
  },
  {
   "cell_type": "code",
   "execution_count": 275,
   "metadata": {
    "collapsed": false,
    "deletable": true,
    "editable": true
   },
   "outputs": [
    {
     "data": {
      "text/plain": [
       "<matplotlib.axes._subplots.AxesSubplot at 0x7f49c04e9f98>"
      ]
     },
     "execution_count": 275,
     "metadata": {},
     "output_type": "execute_result"
    },
    {
     "data": {
      "image/png": "[encoded data removed]",
      "text/plain": [
       "<matplotlib.figure.Figure at 0x7f49c06acc18>"
      ]
     },
     "metadata": {},
     "output_type": "display_data"
    }
   ],
   "source": [
    "corr = train.select_dtypes(include = ['float64', 'int64']).iloc[:, 1:].corr()\n",
    "plt.figure(figsize=(12, 12))\n",
    "sns.heatmap(corr, vmax=1, square=True)"
   ]
  },
  {
   "cell_type": "code",
   "execution_count": 276,
   "metadata": {
    "collapsed": false,
    "deletable": true,
    "editable": true
   },
   "outputs": [
    {
     "name": "stdout",
     "output_type": "stream",
     "text": [
      "OverallQual: \t0.800858355713079\n",
      "GrLivArea: \t0.7205163006738741\n",
      "GarageCars: \t0.6492563342986555\n",
      "TotalBsmtSF: \t0.6465844979300721\n",
      "GarageArea: \t0.6369635930259976\n",
      "1stFlrSF: \t0.6252347186514543\n",
      "FullBath: \t0.5590482380074926\n",
      "TotRmsAbvGrd: \t0.5374617670292905\n",
      "YearBuilt: \t0.5352794324656356\n",
      "YearRemodAdd: \t0.521427960102121\n",
      "GarageYrBlt: \t0.49922979324309924\n",
      "MasVnrArea: \t0.47886229044239154\n",
      "Fireplaces: \t0.46676528347165025\n",
      "BsmtFinSF1: \t0.3959231082743966\n",
      "LotFrontage: \t0.35677281588611987\n",
      "OpenPorchSF: \t0.3303607759152017\n",
      "WoodDeckSF: \t0.3225378644620905\n",
      "2ndFlrSF: \t0.29730130233118784\n",
      "HalfBath: \t0.2829248921855678\n",
      "LotArea: \t0.2698664838081008\n",
      "BsmtFullBath: \t0.23569678183092485\n",
      "BsmtUnfSF: \t0.22067782765790733\n",
      "BedroomAbvGr: \t0.16054172247071052\n",
      "KitchenAbvGr: \t-0.13884861669762533\n",
      "EnclosedPorch: \t-0.1297738170985551\n",
      "ScreenPorch: \t0.11832434040783761\n",
      "MSSubClass: \t-0.08816014939940794\n",
      "OverallCond: \t-0.08020180174226976\n",
      "MoSold: \t0.056796504268744344\n",
      "3SsnPorch: \t0.047414119313007645\n",
      "BsmtHalfBath: \t-0.03679247364621543\n",
      "PoolArea: \t0.03281902509558721\n",
      "LowQualFinSF: \t-0.025350635768713266\n",
      "YrSold: \t-0.023693832964961376\n",
      "MiscVal: \t-0.02109677046027786\n",
      "BsmtFinSF2: \t-0.00889991086155111\n"
     ]
    }
   ],
   "source": [
    "cor_dict = corr['SalePrice'].to_dict()\n",
    "del cor_dict['SalePrice']\n",
    "for ele in sorted(cor_dict.items(), key = lambda x: -abs(x[1])):\n",
    "    print(\"{0}: \\t{1}\".format(*ele))"
   ]
  },
  {
   "cell_type": "code",
   "execution_count": 277,
   "metadata": {
    "collapsed": false,
    "deletable": true,
    "editable": true
   },
   "outputs": [
    {
     "data": {
      "text/plain": [
       "<matplotlib.axes._subplots.AxesSubplot at 0x7f49c04a1518>"
      ]
     },
     "execution_count": 277,
     "metadata": {},
     "output_type": "execute_result"
    },
    {
     "data": {
      "image/png": "[encoded data removed]",
      "text/plain": [
       "<matplotlib.figure.Figure at 0x7f49c04c1ba8>"
      ]
     },
     "metadata": {},
     "output_type": "display_data"
    }
   ],
   "source": [
    "sns.regplot(x = 'OverallQual', y = 'SalePrice', data = train, color = 'Green')"
   ]
  },
  {
   "cell_type": "markdown",
   "metadata": {
    "deletable": true,
    "editable": true
   },
   "source": [
    "# Categorical Features"
   ]
  },
  {
   "cell_type": "code",
   "execution_count": 278,
   "metadata": {
    "collapsed": false,
    "deletable": true,
    "editable": true
   },
   "outputs": [
    {
     "name": "stdout",
     "output_type": "stream",
     "text": [
      "['MSZoning' 'Street' 'LotShape' 'LandContour' 'LotConfig' 'LandSlope'\n",
      " 'Neighborhood' 'Condition1' 'Condition2' 'BldgType' 'HouseStyle'\n",
      " 'RoofStyle' 'RoofMatl' 'Exterior1st' 'Exterior2nd' 'MasVnrType'\n",
      " 'ExterQual' 'ExterCond' 'Foundation' 'BsmtQual' 'BsmtCond' 'BsmtExposure'\n",
      " 'BsmtFinType1' 'BsmtFinType2' 'Heating' 'HeatingQC' 'CentralAir'\n",
      " 'Electrical' 'KitchenQual' 'Functional' 'FireplaceQu' 'GarageType'\n",
      " 'GarageFinish' 'GarageQual' 'GarageCond' 'PavedDrive' 'PoolQC'\n",
      " 'MiscFeature' 'SaleType' 'SaleCondition']\n"
     ]
    }
   ],
   "source": [
    "print(train.select_dtypes(include=['object']).columns.values)"
   ]
  },
  {
   "cell_type": "code",
   "execution_count": 279,
   "metadata": {
    "collapsed": false,
    "deletable": true,
    "editable": true
   },
   "outputs": [
    {
     "data": {
      "text/plain": [
       "Neighborhood\n",
       "MeadowV     88000\n",
       "IDOTRR     103000\n",
       "BrDale     106000\n",
       "OldTown    119000\n",
       "Edwards    119500\n",
       "BrkSide    124300\n",
       "Sawyer     135000\n",
       "Blueste    137500\n",
       "SWISU      139500\n",
       "NAmes      140000\n",
       "NPkVill    146000\n",
       "Mitchel    153500\n",
       "SawyerW    179900\n",
       "Gilbert    181000\n",
       "NWAmes     182900\n",
       "Blmngtn    191000\n",
       "CollgCr    197200\n",
       "ClearCr    200250\n",
       "Crawfor    200624\n",
       "Veenker    218000\n",
       "Somerst    225500\n",
       "Timber     228475\n",
       "StoneBr    278000\n",
       "NoRidge    290000\n",
       "NridgHt    315000\n",
       "Name: SalePrice, dtype: int64"
      ]
     },
     "execution_count": 279,
     "metadata": {},
     "output_type": "execute_result"
    }
   ],
   "source": [
    "train[\"SalePrice\"].groupby(train[\"Neighborhood\"]).median().sort_values()"
   ]
  },
  {
   "cell_type": "code",
   "execution_count": 280,
   "metadata": {
    "collapsed": false,
    "deletable": true,
    "editable": true
   },
   "outputs": [
    {
     "data": {
      "image/png": "[encoded data removed]",
      "text/plain": [
       "<matplotlib.figure.Figure at 0x7f49c03b4400>"
      ]
     },
     "metadata": {},
     "output_type": "display_data"
    }
   ],
   "source": [
    "plt.figure(figsize = (12, 6))\n",
    "sns.boxplot(x = 'Neighborhood', y = 'SalePrice',  data = train)\n",
    "#sns.swarmplot(x = 'Neighborhood', y = 'SalePrice',  data = train, color=\".2\")\n",
    "xt = plt.xticks(rotation=45)"
   ]
  },
  {
   "cell_type": "code",
   "execution_count": 281,
   "metadata": {
    "collapsed": false,
    "deletable": true,
    "editable": true
   },
   "outputs": [
    {
     "data": {
      "image/png": "[encoded data removed]",
      "text/plain": [
       "<matplotlib.figure.Figure at 0x7f49c041eef0>"
      ]
     },
     "metadata": {},
     "output_type": "display_data"
    }
   ],
   "source": [
    "plt.figure(figsize = (12, 6))\n",
    "sns.countplot(x = 'Neighborhood', data = train)\n",
    "xt = plt.xticks(rotation=45)"
   ]
  },
  {
   "cell_type": "markdown",
   "metadata": {
    "deletable": true,
    "editable": true
   },
   "source": [
    "# FITING"
   ]
  },
  {
   "cell_type": "code",
   "execution_count": 419,
   "metadata": {
    "collapsed": true,
    "deletable": true,
    "editable": true
   },
   "outputs": [],
   "source": [
    "from sklearn.metrics import mean_squared_error\n",
    "\n",
    "def rmse(y_true, y_pred):\n",
    "    return np.sqrt(mean_squared_error(y_true, y_pred))"
   ]
  },
  {
   "cell_type": "code",
   "execution_count": 420,
   "metadata": {
    "collapsed": false,
    "deletable": true,
    "editable": true
   },
   "outputs": [],
   "source": [
    "train_munged = munge(train)\n",
    "test_munged = munge(test)"
   ]
  },
  {
   "cell_type": "code",
   "execution_count": 421,
   "metadata": {
    "collapsed": true
   },
   "outputs": [],
   "source": [
    "neighborhood_bin_train = pd.DataFrame(index = train.index)\n",
    "neighborhood_bin_train[\"NeighborhoodBin\"] = train_munged[\"NeighborhoodBin\"]\n",
    "neighborhood_bin_test = pd.DataFrame(index = test.index)\n",
    "neighborhood_bin_test[\"NeighborhoodBin\"] = test_munged[\"NeighborhoodBin\"]"
   ]
  },
  {
   "cell_type": "code",
   "execution_count": 422,
   "metadata": {
    "collapsed": true,
    "deletable": true,
    "editable": true
   },
   "outputs": [],
   "source": [
    "def onehot(onehot_df, df, column_name, fill_na = None):\n",
    "    onehot_df[column_name] = df[column_name]\n",
    "    if fill_na is not None:\n",
    "        onehot_df[column_name].fillna(fill_na, inplace=True)\n",
    "\n",
    "    dummies = pd.get_dummies(onehot_df[column_name], prefix=\"_\" + column_name)\n",
    "    \n",
    "    onehot_df = onehot_df.join(dummies)\n",
    "    onehot_df = onehot_df.drop([column_name], axis=1)\n",
    "    return onehot_df"
   ]
  },
  {
   "cell_type": "code",
   "execution_count": 423,
   "metadata": {
    "collapsed": true,
    "deletable": true,
    "editable": true
   },
   "outputs": [],
   "source": [
    "def munge_onehot(df):\n",
    "    onehot_df = pd.DataFrame(index = df.index)\n",
    "    \n",
    "    onehot_df = onehot(onehot_df, df, \"MSSubClass\")\n",
    "    onehot_df = onehot(onehot_df, df, \"MSZoning\", \"RL\")\n",
    "    onehot_df = onehot(onehot_df, df, \"LotConfig\")\n",
    "    onehot_df = onehot(onehot_df, df, \"Neighborhood\")\n",
    "    onehot_df = onehot(onehot_df, df, \"Condition1\")\n",
    "    onehot_df = onehot(onehot_df, df, \"BldgType\")\n",
    "    onehot_df = onehot(onehot_df, df, \"HouseStyle\")\n",
    "    onehot_df = onehot(onehot_df, df, \"RoofStyle\")\n",
    "    onehot_df = onehot(onehot_df, df, \"Exterior1st\", \"VinylSd\")\n",
    "    onehot_df = onehot(onehot_df, df, \"Exterior2nd\", \"VinylSd\")\n",
    "    onehot_df = onehot(onehot_df, df, \"Foundation\")\n",
    "    onehot_df = onehot(onehot_df, df, \"SaleType\", \"WD\")\n",
    "    onehot_df = onehot(onehot_df, df, \"SaleCondition\", \"Normal\")\n",
    "    onehot_df = onehot(onehot_df, df, \"LotShape\")\n",
    "    onehot_df = onehot(onehot_df, df, \"LandContour\")\n",
    "    onehot_df = onehot(onehot_df, df, \"LandSlope\")\n",
    "    onehot_df = onehot(onehot_df, df, \"Electrical\", \"SBrkr\")\n",
    "    onehot_df = onehot(onehot_df, df, \"GarageType\")\n",
    "    onehot_df = onehot(onehot_df, df, \"PavedDrive\")\n",
    "    onehot_df = onehot(onehot_df, df, \"MiscFeature\")\n",
    "    onehot_df = onehot(onehot_df, df, \"Street\")\n",
    "    onehot_df = onehot(onehot_df, df, \"Condition2\")\n",
    "    onehot_df = onehot(onehot_df, df, \"RoofMatl\")\n",
    "    onehot_df = onehot(onehot_df, df, \"Heating\")\n",
    "    onehot_df = onehot(onehot_df, df, \"ExterQual\")\n",
    "    onehot_df = onehot(onehot_df, df, \"ExterCond\")\n",
    "    onehot_df = onehot(onehot_df, df, \"BsmtQual\")\n",
    "    onehot_df = onehot(onehot_df, df, \"BsmtCond\")\n",
    "    onehot_df = onehot(onehot_df, df, \"HeatingQC\")\n",
    "    onehot_df = onehot(onehot_df, df, \"KitchenQual\")\n",
    "    onehot_df = onehot(onehot_df, df, \"FireplaceQu\")\n",
    "    onehot_df = onehot(onehot_df, df, \"GarageQual\")\n",
    "    onehot_df = onehot(onehot_df, df, \"GarageCond\")\n",
    "    onehot_df = onehot(onehot_df, df, \"PoolQC\")\n",
    "    onehot_df = onehot(onehot_df, df, \"BsmtExposure\")\n",
    "    onehot_df = onehot(onehot_df, df, \"BsmtFinType1\")\n",
    "    onehot_df = onehot(onehot_df, df, \"BsmtFinType2\")\n",
    "    onehot_df = onehot(onehot_df, df, \"Functional\", \"Typ\")\n",
    "    onehot_df = onehot(onehot_df, df, \"GarageFinish\")\n",
    "    onehot_df = onehot(onehot_df, df, \"MoSold\")\n",
    "    \n",
    "    # Заполним тип облицовочной кладки(MasVnrType) для объектов, у которых есть площадь кладки(MasVnrArea)\n",
    "    temp_df = df[[\"MasVnrType\", \"MasVnrArea\"]].copy()\n",
    "    idx = (df[\"MasVnrArea\"] != 0) & ((df[\"MasVnrType\"] == \"None\") | (df[\"MasVnrType\"].isnull()))\n",
    "    temp_df.loc[idx, \"MasVnrType\"] = \"BrkFace\"\n",
    "    onehot_df = onehot(onehot_df, temp_df, \"MasVnrType\", \"None\")\n",
    "            \n",
    "    return onehot_df"
   ]
  },
  {
   "cell_type": "code",
   "execution_count": 424,
   "metadata": {
    "collapsed": false,
    "deletable": true,
    "editable": true
   },
   "outputs": [],
   "source": [
    "# Собираем итоговые дата-сеты, добавив в train_munged категориальные фичи после one-hot encoding\n",
    "onehot_df = munge_onehot(train)\n",
    "onehot_df = onehot(onehot_df, neighborhood_bin_train, \"NeighborhoodBin\")\n",
    "train_munged = train_munged.join(onehot_df)\n",
    "\n",
    "onehot_df = munge_onehot(test)\n",
    "onehot_df = onehot(onehot_df, neighborhood_bin_test, \"NeighborhoodBin\")\n",
    "test_munged = test_munged.join(onehot_df)\n",
    "\n",
    "# Удалим из train некторые колонки, которых нет в test\n",
    "drop_cols = [\n",
    "                \"_Exterior1st_ImStucc\", \"_Exterior1st_Stone\",\n",
    "                \"_Exterior2nd_Other\",\"_HouseStyle_2.5Fin\", \n",
    "            \n",
    "                \"_RoofMatl_Membran\", \"_RoofMatl_Metal\", \"_RoofMatl_Roll\",\n",
    "                \"_Condition2_RRAe\", \"_Condition2_RRAn\", \"_Condition2_RRNn\",\n",
    "                \"_Heating_Floor\", \"_Heating_OthW\",\n",
    "\n",
    "                \"_Electrical_Mix\", \n",
    "                \"_MiscFeature_TenC\",\n",
    "                \"_GarageQual_Ex\", \"_PoolQC_Fa\"\n",
    "            ]\n",
    "train_munged.drop(drop_cols, axis=1, inplace=True)\n",
    "\n",
    "test_munged.drop([\"_MSSubClass_150\"], axis=1, inplace=True)"
   ]
  },
  {
   "cell_type": "code",
   "execution_count": 425,
   "metadata": {
    "collapsed": false,
    "scrolled": true
   },
   "outputs": [],
   "source": [
    "# В качетсве train_target берем log от SalePrice\n",
    "train_target = pd.DataFrame(index = train_munged.index, columns=[\"SalePrice\"])\n",
    "train_target[\"SalePrice\"] = np.log(train[\"SalePrice\"])"
   ]
  },
  {
   "cell_type": "code",
   "execution_count": 426,
   "metadata": {
    "collapsed": false,
    "deletable": true,
    "editable": true
   },
   "outputs": [
    {
     "name": "stdout",
     "output_type": "stream",
     "text": [
      "XGBoost score on training set:  0.0672945752521\n",
      "Lasso score on training set:  0.102706104463\n"
     ]
    },
    {
     "name": "stderr",
     "output_type": "stream",
     "text": [
      "/usr/local/lib/python3.5/dist-packages/sklearn/linear_model/coordinate_descent.py:484: ConvergenceWarning: Objective did not converge. You might want to increase the number of iterations. Fitting data with very small alpha may cause precision problems.\n",
      "  ConvergenceWarning)\n"
     ]
    }
   ],
   "source": [
    "import xgboost as xgb\n",
    "from sklearn.linear_model import Lasso\n",
    "from sklearn.ensemble import RandomForestRegressor\n",
    "from sklearn.ensemble.gradient_boosting import GradientBoostingRegressor\n",
    "\n",
    "regr = xgb.XGBRegressor(\n",
    "                 colsample_bytree=0.2,\n",
    "                 gamma=0.0,\n",
    "                 learning_rate=0.01,\n",
    "                 max_depth=4,\n",
    "                 min_child_weight=1.5,\n",
    "                 n_estimators=7200,                                                                  \n",
    "                 reg_alpha=0.9,\n",
    "                 reg_lambda=0.6,\n",
    "                 subsample=0.2,\n",
    "                 seed=42,\n",
    "                 silent=1)\n",
    "\n",
    "regr.fit(train_munged, label_df)\n",
    "pred_target = regr.predict(train_munged)\n",
    "print(\"XGBoost score on training set: \", rmse(train_target, pred_target))\n",
    "\n",
    "target_pred_xgb = regr.predict(test_munged)\n",
    "\n",
    "\n",
    "\n",
    "best_alpha = 0.0001\n",
    "regr = Lasso(alpha=best_alpha, max_iter=50000)\n",
    "\n",
    "regr.fit(train_munged, label_df)\n",
    "pred_target = regr.predict(train_munged)\n",
    "print(\"Lasso score on training set: \", rmse(train_target, pred_target))\n",
    "\n",
    "target_pred_lasso = regr.predict(test_munged)\n",
    "\n",
    "# regr = RandomForestRegressor(n_estimators = 70)\n",
    "# regr.fit(train_munged, label_df)\n",
    "# y_pred = regr.predict(train_munged)\n",
    "# y_test = label_df\n",
    "# print(\"RandomForest score on training set: \", rmse(y_test, y_pred))\n",
    "\n",
    "# y_pred_rf = regr.predict(test_munged)\n",
    "\n",
    "# regr = GradientBoostingRegressor(n_estimators = 70)\n",
    "# regr.fit(train_munged, label_df)\n",
    "# y_pred = regr.predict(train_munged)\n",
    "# y_test = label_df\n",
    "# print(\"GradientBoosting score on training set: \", rmse(y_test, y_pred))\n",
    "\n",
    "# y_pred_gb = regr.predict(test_munged)\n",
    "\n",
    "# Попробуем взять ансамбль XGBRegressor и Lasso\n",
    "target_pred = (target_pred_xgb + target_pred_lasso) / 2\n",
    "target_pred = np.exp(target_pred)\n",
    "\n",
    "pred_df = pd.DataFrame(target_pred, index=test[\"Id\"], columns=[\"SalePrice\"])\n",
    "pred_df.to_csv('ans.csv', header=True, index_label='Id')"
   ]
  }
 ],
 "metadata": {
  "kernelspec": {
   "display_name": "Python 3",
   "language": "python",
   "name": "python3"
  },
  "language_info": {
   "codemirror_mode": {
    "name": "ipython",
    "version": 3
   },
   "file_extension": ".py",
   "mimetype": "text/x-python",
   "name": "python",
   "nbconvert_exporter": "python",
   "pygments_lexer": "ipython3",
   "version": "3.5.2"
  }
 },
 "nbformat": 4,
 "nbformat_minor": 2
}
